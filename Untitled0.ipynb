{
  "nbformat": 4,
  "nbformat_minor": 0,
  "metadata": {
    "colab": {
      "provenance": []
    },
    "kernelspec": {
      "name": "python3",
      "display_name": "Python 3"
    },
    "language_info": {
      "name": "python"
    }
  },
  "cells": [
    {
      "cell_type": "code",
      "execution_count": 1,
      "metadata": {
        "colab": {
          "base_uri": "https://localhost:8080/"
        },
        "id": "lxzvTyvAAJy-",
        "outputId": "b0d7d34f-75f0-46c1-9859-b10c13c6a959"
      },
      "outputs": [
        {
          "output_type": "stream",
          "name": "stdout",
          "text": [
            "Enter the upper limit for Fibonacci numbers: 144\n",
            "Fibonacci numbers up to 144 :\n",
            "[0, 1, 1, 2, 3, 5, 8, 13, 21, 34, 55, 89, 144]\n"
          ]
        }
      ],
      "source": [
        "def generate_fibonacci(limit):\n",
        "    sequence = []\n",
        "    a, b = 0, 1\n",
        "    while a <= limit:\n",
        "        sequence.append(a)\n",
        "        a, b = b, a + b\n",
        "    return sequence\n",
        "\n",
        "# Specify the upper limit for Fibonacci numbers\n",
        "limit = int(input(\"Enter the upper limit for Fibonacci numbers: \"))\n",
        "fib_sequence = generate_fibonacci(limit)\n",
        "\n",
        "print(\"Fibonacci numbers up to\", limit, \":\")\n",
        "print(fib_sequence)\n"
      ]
    },
    {
      "cell_type": "code",
      "source": [],
      "metadata": {
        "id": "tOMdmJKOFUCu"
      },
      "execution_count": null,
      "outputs": []
    }
  ]
}