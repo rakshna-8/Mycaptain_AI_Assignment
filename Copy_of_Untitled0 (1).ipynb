{
  "nbformat": 4,
  "nbformat_minor": 0,
  "metadata": {
    "colab": {
      "provenance": []
    },
    "kernelspec": {
      "name": "python3",
      "display_name": "Python 3"
    },
    "language_info": {
      "name": "python"
    }
  },
  "cells": [
    {
      "cell_type": "code",
      "execution_count": null,
      "metadata": {
        "colab": {
          "base_uri": "https://localhost:8080/"
        },
        "id": "lxzvTyvAAJy-",
        "outputId": "b0d7d34f-75f0-46c1-9859-b10c13c6a959"
      },
      "outputs": [
        {
          "output_type": "stream",
          "name": "stdout",
          "text": [
            "Enter the upper limit for Fibonacci numbers: 144\n",
            "Fibonacci numbers up to 144 :\n",
            "[0, 1, 1, 2, 3, 5, 8, 13, 21, 34, 55, 89, 144]\n"
          ]
        }
      ],
      "source": [
        "def generate_fibonacci(limit):\n",
        "    sequence = []\n",
        "    a, b = 0, 1\n",
        "    while a <= limit:\n",
        "        sequence.append(a)\n",
        "        a, b = b, a + b\n",
        "    return sequence\n",
        "\n",
        "# Specify the upper limit for Fibonacci numbers\n",
        "limit = int(input(\"Enter the upper limit for Fibonacci numbers: \"))\n",
        "fib_sequence = generate_fibonacci(limit)\n",
        "\n",
        "print(\"Fibonacci numbers up to\", limit, \":\")\n",
        "print(fib_sequence)\n"
      ]
    },
    {
      "cell_type": "code",
      "source": [
        "E = {0, 2, 4, 6, 8}\n",
        "N = {1, 2, 3, 4, 5}\n",
        "\n",
        "union_set = E | N  # union of E and N\n",
        "intersection_set = E & N  # intersection of E and N\n",
        "difference_set = E - N  # difference of E and N\n",
        "symmetric_difference_set = E ^ N  # symmetric difference of E and N\n",
        "\n",
        "# results\n",
        "print(\"Union of E and N is\", union_set)\n",
        "print(\"Intersection of E and N is\", intersection_set)\n",
        "print(\"Difference of E and N is\", difference_set)\n",
        "print(\"Symmetric difference of E and N is\", symmetric_difference_set)\n"
      ],
      "metadata": {
        "colab": {
          "base_uri": "https://localhost:8080/"
        },
        "id": "E46G-7DnVERj",
        "outputId": "0fd10374-86a8-4e87-d774-7d08f723fff2"
      },
      "execution_count": 2,
      "outputs": [
        {
          "output_type": "stream",
          "name": "stdout",
          "text": [
            "Union of E and N is {0, 1, 2, 3, 4, 5, 6, 8}\n",
            "Intersection of E and N is {2, 4}\n",
            "Difference of E and N is {0, 8, 6}\n",
            "Symmetric difference of E and N is {0, 1, 3, 5, 6, 8}\n"
          ]
        }
      ]
    },
    {
      "cell_type": "code",
      "source": [],
      "metadata": {
        "id": "9wGY6n5cN_hO"
      },
      "execution_count": null,
      "outputs": []
    }
  ]
}